{
 "cells": [
  {
   "cell_type": "code",
   "execution_count": null,
   "id": "aaeaec49",
   "metadata": {},
   "outputs": [],
   "source": [
    "%load_ext autoreload\n",
    "%autoreload 2"
   ]
  },
  {
   "cell_type": "code",
   "execution_count": null,
   "id": "bf401931",
   "metadata": {},
   "outputs": [],
   "source": [
    "import torch\n",
    "import numpy as np\n",
    "import os\n",
    "import matplotlib.pyplot as plt\n",
    "import matplotlib.image as mpimg\n",
    "import utils as u\n",
    "import itertools\n",
    "import pandas as pd\n",
    "import cv2"
   ]
  },
  {
   "cell_type": "markdown",
   "id": "dea51768",
   "metadata": {},
   "source": [
    "# 1. Read the image, \n",
    "###    assign the wanted rotation\n",
    "###    plot the original and rotated image"
   ]
  },
  {
   "cell_type": "code",
   "execution_count": null,
   "id": "24b9e1e6",
   "metadata": {},
   "outputs": [],
   "source": [
    "rot_deg=63\n",
    "\n",
    "root_img_fold = \"/home/doga/PycharmProjects/objectLocalization/\"\n",
    "a_image_full_path = os.path.join(root_img_fold, \"rarrow.jpg\")\n",
    "\n",
    "img = mpimg.imread(a_image_full_path)\n",
    "img_rot = u.rot_img_cv(img, rot_deg)\n",
    "\n",
    "fig, ax = plt.subplots(1, 2, figsize=(10, 5))\n",
    "ax[0].imshow(img)\n",
    "ax[0].set_title(f\"Original image shape {img.shape}\", color=\"white\")\n",
    "ax[1].imshow(img_rot)\n",
    "ax[1].set_title(f\"img_rot rotated by {rot_deg} degrees\\nimage shape {img_rot.shape}\", color=\"white\")\n",
    "plt.show()"
   ]
  },
  {
   "cell_type": "markdown",
   "id": "b47e3f9a",
   "metadata": {},
   "source": [
    "# 2. Pick a box \n",
    "###    now I have img and img_rot\n",
    "###    define a block to grab and grab it"
   ]
  },
  {
   "cell_type": "code",
   "execution_count": null,
   "id": "7ddeaa35",
   "metadata": {},
   "outputs": [],
   "source": [
    "#box_corner = {\"col_w\":230,\"row_h\":230}; box_wh = {\"w\":30,\"h\":40}\n",
    "#box_corner = {\"col_w\":230,\"row_h\":140}; box_wh = {\"w\":30,\"h\":40}\n",
    "box_corner = {\"col_w\":230,\"row_h\":95}; box_wh = {\"w\":30,\"h\":40}\n",
    "r = u.get_rectangle((box_corner[\"col_w\"],box_corner[\"row_h\"]), box_wh)\n",
    "img_box = u.crop_and_show(img, r, figsize=(10, 10), title_color=\"white\")"
   ]
  },
  {
   "cell_type": "markdown",
   "id": "69c1dfdd",
   "metadata": {},
   "source": [
    "# 3. Locate the box in original image"
   ]
  },
  {
   "cell_type": "code",
   "execution_count": null,
   "id": "213f2d31",
   "metadata": {},
   "outputs": [],
   "source": [
    "coordinate = u.locate_crop(img, img_box)\n",
    "print(f\"found coordinates = {coordinate}\")\n",
    "print(f\"given coordinates = {box_corner}\")"
   ]
  },
  {
   "cell_type": "markdown",
   "id": "bcc6adb1",
   "metadata": {},
   "source": [
    "# 4. Find center of box in rotated image"
   ]
  },
  {
   "cell_type": "code",
   "execution_count": null,
   "id": "213d3685",
   "metadata": {},
   "outputs": [],
   "source": [
    "#find the center of the same block if it is rotated\n",
    "box_def_rot = None #{\"box_corner\": box_corner, \"box_wh\":box_wh}\n",
    "r_rot, bc_rot, bc_wh_rot = u.find_center_of_box_in_rotated_image(rot_deg, img.shape, \n",
    "                                                                 rect_def=r, \n",
    "                                                                 verbose=1)"
   ]
  },
  {
   "cell_type": "markdown",
   "id": "53fcf933",
   "metadata": {},
   "source": [
    "# 5. Crop the box from rotated image for search"
   ]
  },
  {
   "cell_type": "code",
   "execution_count": null,
   "id": "082a174c",
   "metadata": {},
   "outputs": [],
   "source": [
    "#r_rot = u.get_rectangle((bc_rot[\"col_w\"],bc_rot[\"row_h\"]), bc_wh_rot)\n",
    "img_box_rot= u.crop_and_show(img_rot, r_rot, figsize=(10, 8), title_color=\"white\")"
   ]
  },
  {
   "cell_type": "markdown",
   "id": "f89840bd",
   "metadata": {},
   "source": [
    "# 6. Locate the cropped image in rotated images"
   ]
  },
  {
   "cell_type": "code",
   "execution_count": null,
   "id": "72cfdb0a",
   "metadata": {},
   "outputs": [],
   "source": [
    "#%load_ext line_profiler\n",
    "#from utils import locate_rotated_crop_cosine as lrcc\n",
    "#%lprun -f  u.locate_rotated_crop_cosine(img, img_box_rot, deg_stride = 5, enforce_cpu=True)\n",
    "coord_found, codi = u.locate_rotated_crop_cosine(img, img_box_rot, deg_stride = 5, enforce_cpu=False\n",
    "                                          ,max_w=200, verbose=1)\n",
    "print(f\"found coordinates = {coord_found}\")\n",
    "print(f\"given coordinates = {bc_rot}\")"
   ]
  },
  {
   "cell_type": "markdown",
   "id": "5d09c0a1",
   "metadata": {},
   "source": [
    "# 7. Plot the estimated rotation of image and position of block"
   ]
  },
  {
   "cell_type": "code",
   "execution_count": null,
   "id": "9d4065fe",
   "metadata": {},
   "outputs": [],
   "source": [
    "bc_rot_found = {\"col_w\":coord_found[\"col_w\"],\"row_h\":coord_found[\"row_h\"]}\n",
    "r_rot_found = u.get_rectangle((coord_found[\"col_w\"],coord_found[\"row_h\"]), bc_wh_rot)\n",
    "img_rot_found = u.rot_img_cv(img, coord_found[\"rot_degree\"])\n",
    "img_box_rot_found = u.crop_and_show(img_rot_found, r_rot_found, figsize=(15, 10), title_color=\"white\")"
   ]
  },
  {
   "cell_type": "code",
   "execution_count": null,
   "id": "f6a474ee",
   "metadata": {},
   "outputs": [],
   "source": []
  }
 ],
 "metadata": {
  "kernelspec": {
   "display_name": "objectLocalization",
   "language": "python",
   "name": "objectlocalization"
  },
  "language_info": {
   "codemirror_mode": {
    "name": "ipython",
    "version": 3
   },
   "file_extension": ".py",
   "mimetype": "text/x-python",
   "name": "python",
   "nbconvert_exporter": "python",
   "pygments_lexer": "ipython3",
   "version": "3.7.11"
  }
 },
 "nbformat": 4,
 "nbformat_minor": 5
}
