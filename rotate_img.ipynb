{
 "cells": [
  {
   "cell_type": "code",
   "execution_count": 1,
   "id": "0fedcf49",
   "metadata": {},
   "outputs": [],
   "source": [
    "%load_ext autoreload\n",
    "%autoreload 2\n",
    "import torch\n",
    "import numpy as np\n",
    "import os\n",
    "import matplotlib.pyplot as plt\n",
    "import matplotlib.image as mpimg\n",
    "import utils as u\n",
    "import itertools"
   ]
  },
  {
   "cell_type": "code",
   "execution_count": 2,
   "id": "e3c77156",
   "metadata": {},
   "outputs": [
    {
     "name": "stdout",
     "output_type": "stream",
     "text": [
      "/home/doga/PycharmProjects/objectLocalization/dataset/wounds/2021-09-01_photo1.jpg\n",
      "w(3024), h(4032)\n"
     ]
    }
   ],
   "source": [
    "root_img_fold = \"/home/doga/PycharmProjects/objectLocalization/dataset/wounds\"\n",
    "image_names = ['2021-09-01_photo1.jpg','2021-09-01_photo2_rl.jpg','2021-09-01_photo3_rr.jpg']\n",
    "a_image_full_path = os.path.join(root_img_fold, image_names[0])\n",
    "print(a_image_full_path)\n",
    "img = mpimg.imread(a_image_full_path)\n",
    "print(\"w({:}), h({:})\".format(img.shape[0],img.shape[1]))"
   ]
  },
  {
   "cell_type": "code",
   "execution_count": 3,
   "id": "3ad60bca",
   "metadata": {
    "collapsed": true
   },
   "outputs": [
    {
     "name": "stdout",
     "output_type": "stream",
     "text": [
      "[[ 1  2  3  4  5  6]\n",
      " [ 7  8  9 10 11 12]\n",
      " [13 14 15 16 17 18]\n",
      " [19 20 21 22 23 24]\n",
      " [25 26 27 28 29 30]\n",
      " [31 32 33 34 35 36]]\n",
      "[[ 1  7 13 19 25 31]\n",
      " [ 2  8 14 20 26 32]\n",
      " [ 3  9 15 21 27 33]\n",
      " [ 4 10 16 22 28 34]\n",
      " [ 5 11 17 23 29 35]\n",
      " [ 6 12 18 24 30 36]]\n"
     ]
    }
   ],
   "source": [
    "hr = 6\n",
    "wc = 6\n",
    "rot_c=[int(hr/2),int(wc/2)]\n",
    "rot_deg=45\n",
    "a = np.arange(1,1+hr*wc).reshape((hr,wc))\n",
    "b = np.arange(1,1+3*hr*wc).reshape((3,hr,wc))\n",
    "print(a)\n",
    "print(np.swapaxes(a,0,1))"
   ]
  },
  {
   "cell_type": "code",
   "execution_count": 4,
   "id": "83e25b7b",
   "metadata": {
    "collapsed": true
   },
   "outputs": [
    {
     "name": "stdout",
     "output_type": "stream",
     "text": [
      "deg(45) = rad(0.7853981633974483)\n",
      "[[-1.24264069  3.          1.        ]\n",
      " [-0.53553391  3.70710678  1.        ]\n",
      " [ 0.17157288  4.41421356  1.        ]\n",
      " [ 0.87867966  5.12132034  1.        ]\n",
      " [ 1.58578644  5.82842712  1.        ]\n",
      " [ 2.29289322  6.53553391  1.        ]\n",
      " [-0.53553391  2.29289322  1.        ]\n",
      " [ 0.17157288  3.          1.        ]\n",
      " [ 0.87867966  3.70710678  1.        ]\n",
      " [ 1.58578644  4.41421356  1.        ]\n",
      " [ 2.29289322  5.12132034  1.        ]\n",
      " [ 3.          5.82842712  1.        ]\n",
      " [ 0.17157288  1.58578644  1.        ]\n",
      " [ 0.87867966  2.29289322  1.        ]\n",
      " [ 1.58578644  3.          1.        ]\n",
      " [ 2.29289322  3.70710678  1.        ]\n",
      " [ 3.          4.41421356  1.        ]\n",
      " [ 3.70710678  5.12132034  1.        ]\n",
      " [ 0.87867966  0.87867966  1.        ]\n",
      " [ 1.58578644  1.58578644  1.        ]\n",
      " [ 2.29289322  2.29289322  1.        ]\n",
      " [ 3.          3.          1.        ]\n",
      " [ 3.70710678  3.70710678  1.        ]\n",
      " [ 4.41421356  4.41421356  1.        ]\n",
      " [ 1.58578644  0.17157288  1.        ]\n",
      " [ 2.29289322  0.87867966  1.        ]\n",
      " [ 3.          1.58578644  1.        ]\n",
      " [ 3.70710678  2.29289322  1.        ]\n",
      " [ 4.41421356  3.          1.        ]\n",
      " [ 5.12132034  3.70710678  1.        ]\n",
      " [ 2.29289322 -0.53553391  1.        ]\n",
      " [ 3.          0.17157288  1.        ]\n",
      " [ 3.70710678  0.87867966  1.        ]\n",
      " [ 4.41421356  1.58578644  1.        ]\n",
      " [ 5.12132034  2.29289322  1.        ]\n",
      " [ 5.82842712  3.          1.        ]]\n"
     ]
    }
   ],
   "source": [
    "rot_pixels, pix_vals_original, center_add = u.get_rotated_pixel_vals(wc, hr, rot_c=rot_c, rot_deg=rot_deg)\n",
    "xyz = center_add+rot_pixels\n",
    "print(xyz)"
   ]
  },
  {
   "cell_type": "markdown",
   "id": "d6056e6b",
   "metadata": {},
   "source": [
    "###  assign_method == 'pick', nan_action == 'clip'"
   ]
  },
  {
   "cell_type": "code",
   "execution_count": 5,
   "id": "8875695f",
   "metadata": {
    "collapsed": true
   },
   "outputs": [
    {
     "name": "stdout",
     "output_type": "stream",
     "text": [
      "[[-1.24264069  0.          3.          3.          0.          3.        ]\n",
      " [-0.53553391  0.          3.70710678  4.          1.          4.        ]\n",
      " [ 0.17157288  0.          4.41421356  4.          2.          4.        ]\n",
      " [ 0.87867966  1.          5.12132034  5.          3.         11.        ]\n",
      " [ 1.58578644  2.          5.82842712  5.          4.         17.        ]\n",
      " [ 2.29289322  2.          6.53553391  5.          5.         17.        ]\n",
      " [-0.53553391  0.          2.29289322  2.          6.          2.        ]\n",
      " [ 0.17157288  0.          3.          3.          7.          3.        ]\n",
      " [ 0.87867966  1.          3.70710678  4.          8.         10.        ]\n",
      " [ 1.58578644  2.          4.41421356  4.          9.         16.        ]\n",
      " [ 2.29289322  2.          5.12132034  5.         10.         17.        ]\n",
      " [ 3.          3.          5.82842712  5.         11.         23.        ]\n",
      " [ 0.17157288  0.          1.58578644  2.         12.          2.        ]\n",
      " [ 0.87867966  1.          2.29289322  2.         13.          8.        ]\n",
      " [ 1.58578644  2.          3.          3.         14.         15.        ]\n",
      " [ 2.29289322  2.          3.70710678  4.         15.         16.        ]\n",
      " [ 3.          3.          4.41421356  4.         16.         22.        ]\n",
      " [ 3.70710678  4.          5.12132034  5.         17.         29.        ]\n",
      " [ 0.87867966  1.          0.87867966  1.         18.          7.        ]\n",
      " [ 1.58578644  2.          1.58578644  2.         19.         14.        ]\n",
      " [ 2.29289322  2.          2.29289322  2.         20.         14.        ]\n",
      " [ 3.          3.          3.          3.         21.         21.        ]\n",
      " [ 3.70710678  4.          3.70710678  4.         22.         28.        ]\n",
      " [ 4.41421356  4.          4.41421356  4.         23.         28.        ]\n",
      " [ 1.58578644  2.          0.17157288  0.         24.         12.        ]\n",
      " [ 2.29289322  2.          0.87867966  1.         25.         13.        ]\n",
      " [ 3.          3.          1.58578644  2.         26.         20.        ]\n",
      " [ 3.70710678  4.          2.29289322  2.         27.         26.        ]\n",
      " [ 4.41421356  4.          3.          3.         28.         27.        ]\n",
      " [ 5.12132034  5.          3.70710678  4.         29.         34.        ]\n",
      " [ 2.29289322  2.         -0.53553391  0.         30.         12.        ]\n",
      " [ 3.          3.          0.17157288  0.         31.         18.        ]\n",
      " [ 3.70710678  4.          0.87867966  1.         32.         25.        ]\n",
      " [ 4.41421356  4.          1.58578644  2.         33.         26.        ]\n",
      " [ 5.12132034  5.          2.29289322  2.         34.         32.        ]\n",
      " [ 5.82842712  5.          3.          3.         35.         33.        ]]\n"
     ]
    }
   ],
   "source": [
    "x = xyz[:,0].copy()\n",
    "y = xyz[:,1].copy()\n",
    "x1 = np.clip(np.round(x,0), 0, wc-1).astype('int')\n",
    "y1 = np.clip(np.round(y,0), 0, hr-1).astype('int')\n",
    "imTargetIdx = np.asarray(np.ravel_multi_index([x1, y1], (wc,hr)))\n",
    "imSourceIdx = np.arange(0, len(imTargetIdx), dtype=int)\n",
    "print(np.vstack((x,x1,y,y1,imSourceIdx,imTargetIdx)).T)"
   ]
  },
  {
   "cell_type": "markdown",
   "id": "5df7fcd0",
   "metadata": {},
   "source": [
    "###  assign_method == 'pick', nan_action in ['remove', 'available']:"
   ]
  },
  {
   "cell_type": "code",
   "execution_count": 6,
   "id": "b5ad9841",
   "metadata": {
    "collapsed": true
   },
   "outputs": [
    {
     "name": "stdout",
     "output_type": "stream",
     "text": [
      "removed 5 pixels\n",
      "[[ 2  4]\n",
      " [ 3  5]\n",
      " [ 4 11]\n",
      " [ 7  3]\n",
      " [ 8  3]\n",
      " [ 9 10]\n",
      " [10 17]\n",
      " [11 23]\n",
      " [12  1]\n",
      " [13  2]\n",
      " [14  9]\n",
      " [15 15]\n",
      " [16 22]\n",
      " [17 23]\n",
      " [18  0]\n",
      " [19  7]\n",
      " [20 14]\n",
      " [21 21]\n",
      " [22 21]\n",
      " [23 28]\n",
      " [24  6]\n",
      " [25 12]\n",
      " [26 19]\n",
      " [27 20]\n",
      " [28 27]\n",
      " [29 33]\n",
      " [31 18]\n",
      " [32 18]\n",
      " [33 25]\n",
      " [34 32]\n",
      " [35 33]]\n"
     ]
    }
   ],
   "source": [
    "x = xyz[:,0].copy()\n",
    "y = xyz[:,1].copy()\n",
    "iSoTa = [[s, int(np.ravel_multi_index([[int(i)],[int(j)]], (wc,hr)))] for s, (i, j) in enumerate(zip(x, y)) if (i<wc and i>=0 and j<hr and j>=0)]\n",
    "iSoTa = np.asarray(iSoTa)\n",
    "print(f\"removed {len(x)-len(iSoTa)} pixels\")\n",
    "print(np.vstack((iSoTa[:,0],iSoTa[:,1])).T)"
   ]
  },
  {
   "cell_type": "markdown",
   "id": "f89b6934",
   "metadata": {},
   "source": [
    "###  assign_method == 'interpolate', nan_action == 'clip'\n",
    "if clipping will happen then no removal will happen"
   ]
  },
  {
   "cell_type": "code",
   "execution_count": 7,
   "id": "1491dd62",
   "metadata": {
    "collapsed": true
   },
   "outputs": [
    {
     "name": "stdout",
     "output_type": "stream",
     "text": [
      "[[ 4.          4.70710678  6.44365081 11.27207794 15.51471863 19.75735931]\n",
      " [ 3.29289322  5.02943725  9.97918472 14.92893219 19.75735931 24.        ]\n",
      " [ 3.61522369  8.56497116 13.51471863 18.46446609 23.41421356 28.24264069]\n",
      " [ 7.1507576  12.10050506 17.05025253 22.         26.94974747 31.89949494]\n",
      " [10.6862915  15.63603897 20.58578644 25.53553391 30.48528137 34.70710678]\n",
      " [14.75735931 19.17157288 24.12132034 29.07106781 33.29289322 34.        ]]\n",
      "[[ 4.          4.70710678  6.44365081 11.27207794 15.51471863 19.75735931]\n",
      " [ 3.29289322  5.02943725  9.97918472 14.92893219 19.75735931 24.        ]\n",
      " [ 3.61522369  8.56497116 13.51471863 18.46446609 23.41421356 28.24264069]\n",
      " [ 7.1507576  12.10050506 17.05025253 22.         26.94974747 31.89949494]\n",
      " [10.6862915  15.63603897 20.58578644 25.53553391 30.48528137 34.70710678]\n",
      " [14.75735931 19.17157288 24.12132034 29.07106781 33.29289322 34.        ]]\n"
     ]
    }
   ],
   "source": [
    "x = xyz[:,0].copy()\n",
    "y = xyz[:,1].copy()\n",
    "xf, yf = np.floor(x).astype(int), np.floor(y).astype(int)\n",
    "xc, yc = np.ceil(x).astype(int), np.ceil(y).astype(int)\n",
    "xw, yw = x - xf, y - yf\n",
    "Ax = np.clip(xf, 0, wc-1).astype('int')\n",
    "Ay = np.clip(yf, 0, hr-1).astype('int')\n",
    "A = np.ravel_multi_index([np.clip(xf, 0, wc-1).astype('int'),\n",
    "                          np.clip(yf, 0, hr-1).astype('int')], (wc,hr)).astype(int)\n",
    "B = np.ravel_multi_index([np.clip(xc, 0, wc-1).astype('int'),\n",
    "                          np.clip(yf, 0, hr-1).astype('int')], (wc,hr)).astype(int)\n",
    "C = np.ravel_multi_index([np.clip(xf, 0, wc-1).astype('int'),\n",
    "                          np.clip(yc, 0, hr-1).astype('int')], (wc,hr)).astype(int)\n",
    "D = np.ravel_multi_index([np.clip(xc, 0, wc-1).astype('int'),\n",
    "                          np.clip(yc, 0, hr-1).astype('int')], (wc,hr)).astype(int)\n",
    "#print(np.vstack((A,B,C,D)).T)\n",
    "#print(a.ravel()[A])\n",
    "#print(a[Ax,Ay])\n",
    "a_final = np.zeros_like(a.ravel())\n",
    "for i in range(4):\n",
    "    xinds = np.clip(xf+i%2, 0, wc-1).astype('int')\n",
    "    yinds = np.clip(yf+int(i/2), 0, hr-1).astype('int')\n",
    "    kx1,kx2,ky1,ky2 = 1.0-i%2, (i%2-.5)*2, 1-int(i/2), (int(i/2)-.5)*2\n",
    "    _wx =  kx1+kx2*xw\n",
    "    _wy =  ky1+ky2*yw\n",
    "    a_picked = a[xinds,yinds]\n",
    "    #print(f'i{i}')\n",
    "    #print(i%2,int(i/2),kx1,kx2, ky1,ky2 )\n",
    "    #print(xinds.shape,yinds.shape,_wx.shape,_wy.shape,a_picked.shape)\n",
    "    #print(a_picked)\n",
    "    #print(a_picked*_wx*_wy)\n",
    "    #print(fff2[i])\n",
    "    a_final = a_final + a_picked*_wx*_wy\n",
    "print(a_final.reshape(a.shape))\n",
    "fff= [a[np.clip(xf+i%2, 0, wc-1).astype('int'),np.clip(yf+int(i/2), 0, hr-1).astype('int')]*((1.0-i%2)+((i%2-.5)*2)*xw)*((1-int(i/2))+((int(i/2)-.5)*2)*yw) for i in range(4)]\n",
    "print(sum(fff).reshape(a.shape))"
   ]
  },
  {
   "cell_type": "markdown",
   "id": "a335e62d",
   "metadata": {},
   "source": [
    "###  assign_method == 'interpolate', nan_action == 'remove'"
   ]
  },
  {
   "cell_type": "code",
   "execution_count": 8,
   "id": "24725694",
   "metadata": {
    "collapsed": true
   },
   "outputs": [
    {
     "name": "stdout",
     "output_type": "stream",
     "text": [
      "(array([ 2,  7,  8,  9, 12, 13, 14, 15, 16, 18, 19, 20, 21, 22, 23, 24, 25,\n",
      "       26, 27, 28, 31, 32, 33]),)\n",
      "i0\n",
      "[2.42640687e+00 3.31370850e+00 1.42135624e-01 2.66904756e+00\n",
      " 6.86291501e-01 2.57359313e-01 4.14213562e+00 3.31370850e+00\n",
      " 1.34730881e+01 1.47186258e-02 1.37258300e+00 7.50000000e+00\n",
      " 2.20000000e+01 1.88730163e+00 9.95122676e+00 2.40202025e+00\n",
      " 1.11522369e+00 8.28427125e+00 4.34924240e+00 1.64020203e+01\n",
      " 1.57401154e+01 6.75144213e-01 6.30865787e+00]\n",
      "[2.42640687e+00 3.31370850e+00 1.42135624e-01 2.66904756e+00\n",
      " 6.86291501e-01 2.57359313e-01 4.14213562e+00 3.31370850e+00\n",
      " 1.34730881e+01 1.47186258e-02 1.37258300e+00 7.50000000e+00\n",
      " 2.20000000e+01 1.88730163e+00 9.95122676e+00 2.40202025e+00\n",
      " 1.11522369e+00 8.28427125e+00 4.34924240e+00 1.64020203e+01\n",
      " 1.57401154e+01 6.75144213e-01 6.30865787e+00]\n",
      "0.0\n",
      "i1\n",
      "[ 1.1055557   1.71572875  2.57359313  5.83347776  0.56854249  5.59188309\n",
      "  9.372583    1.88730163  0.          0.74621202  3.39696962  4.3492424\n",
      "  0.          5.79898987  8.49242405  6.30865787  0.67514421  0.\n",
      " 13.5        14.08326112  0.          2.14466094  5.49033201]\n",
      "[ 1.1055557   1.71572875  2.57359313  5.83347776  0.56854249  5.59188309\n",
      "  9.372583    1.88730163  0.          0.74621202  3.39696962  4.3492424\n",
      "  0.          5.79898987  8.49242405  6.30865787  0.67514421  0.\n",
      " 13.5        14.08326112  0.          2.14466094  5.49033201]\n",
      "0.0\n",
      "i2\n",
      "[ 2.0588745   0.          0.42893219  2.0588745   1.45584412  0.14213562\n",
      "  0.          8.5         9.9411255   0.21320344  2.18376618  3.3137085\n",
      "  0.          4.76345597  7.27922061  0.56854249  8.69848481 12.30151519\n",
      "  1.88730163  0.          3.43145751  5.14718626  9.26493526]\n",
      "[ 2.0588745   0.          0.42893219  2.0588745   1.45584412  0.14213562\n",
      "  0.          8.5         9.9411255   0.21320344  2.18376618  3.3137085\n",
      "  0.          4.76345597  7.27922061  0.56854249  8.69848481 12.30151519\n",
      "  1.88730163  0.          3.43145751  5.14718626  9.26493526]\n",
      "0.0\n",
      "i3\n",
      "[ 0.85281374  0.          6.83452378  4.36753237  0.90454557  2.57359313\n",
      "  0.          4.76345597  0.          6.17662351  5.14718626  1.88730163\n",
      "  0.         14.5         6.17662351  1.40707089  5.14718626  0.\n",
      "  5.79898987  0.          0.         16.15432893  8.00714267]\n",
      "[ 0.85281374  0.          6.83452378  4.36753237  0.90454557  2.57359313\n",
      "  0.          4.76345597  0.          6.17662351  5.14718626  1.88730163\n",
      "  0.         14.5         6.17662351  1.40707089  5.14718626  0.\n",
      "  5.79898987  0.          0.         16.15432893  8.00714267]\n",
      "0.0\n",
      "[[ 0.          0.          6.44365081  0.          0.          0.        ]\n",
      " [ 0.          5.02943725  9.97918472 14.92893219  0.          0.        ]\n",
      " [ 3.61522369  8.56497116 13.51471863 18.46446609 23.41421356  0.        ]\n",
      " [ 7.1507576  12.10050506 17.05025253 22.         26.94974747 31.89949494]\n",
      " [10.6862915  15.63603897 20.58578644 25.53553391 30.48528137  0.        ]\n",
      " [ 0.         19.17157288 24.12132034 29.07106781  0.          0.        ]]\n",
      "[[ 0  0  6  0  0  0]\n",
      " [ 0  5  9 14  0  0]\n",
      " [ 3  8 13 18 23  0]\n",
      " [ 7 12 17 22 26 31]\n",
      " [10 15 20 25 30  0]\n",
      " [ 0 19 24 29  0  0]]\n"
     ]
    }
   ],
   "source": [
    "x = xyz[:,0].copy()\n",
    "y = xyz[:,1].copy()\n",
    "xf, yf = np.floor(x).astype(int), np.floor(y).astype(int)\n",
    "xw, yw = x - xf, y - yf\n",
    "Ax,Ay = xf,yf\n",
    "Bx,By = xc,yf\n",
    "Cx,Cy = xf,yc\n",
    "Dx,Dy = xc,yc\n",
    "xinds = np.vstack((Ax,Bx,Cx,Dx)).T\n",
    "xslct = ((xinds>=0).astype(int)*(xinds<wc).astype(int)).all(axis=1)\n",
    "yinds = np.vstack((Ay,By,Cy,Dy)).T\n",
    "yslct = ((yinds>=0).astype(int)*(yinds<hr).astype(int)).all(axis=1)\n",
    "slct = ((xinds>=0).astype(int)*(xinds<wc).astype(int)*(yinds>=0).astype(int)*(yinds<hr).astype(int)).all(axis=1)\n",
    "slct = ((xf >= 0).astype(int) * (xf<wc-1).astype(int) * (yf >= 0).astype(int) * (yf<hr-1).astype(int)).astype(bool)\n",
    "print(np.where(slct))\n",
    "a_final = np.zeros_like(a.ravel(), dtype=float)\n",
    "ddd= [a[(xf+i%2)[slct],(yf+int(i/2))[slct]]*((1.0-i%2)+((i%2-.5)*2)*xw[slct])*((1-int(i/2))+((int(i/2)-.5)*2)*yw[slct])  for i in range(4)]\n",
    "for i in range(4):\n",
    "    xinds = xf+i%2\n",
    "    yinds = yf+int(i/2)\n",
    "    kx1,kx2,ky1,ky2 = 1.0-i%2, (i%2-.5)*2, 1-int(i/2), (int(i/2)-.5)*2\n",
    "    _wx =  kx1+kx2*xw[slct]\n",
    "    _wy =  ky1+ky2*yw[slct]\n",
    "    a_picked = a[xinds[slct],yinds[slct]]\n",
    "    print(f'i{i}')\n",
    "    #print(i%2,int(i/2),kx1,kx2, ky1,ky2 )\n",
    "    #print(xinds.shape,yinds.shape,_wx.shape,_wy.shape,a_picked.shape)\n",
    "    print(ddd[i])\n",
    "    print(a_picked*_wx*_wy)\n",
    "    print(sum(ddd[i]-a_picked*_wx*_wy))\n",
    "    a_final[slct] = a_final[slct]+a_picked*_wx*_wy\n",
    "print(a_final.reshape(a.shape))\n",
    "a_final3 = np.zeros_like(a.ravel())\n",
    "a_final3[slct] = sum(ddd)\n",
    "print(a_final3.reshape(a.shape))"
   ]
  },
  {
   "cell_type": "code",
   "execution_count": 24,
   "id": "56335d17",
   "metadata": {},
   "outputs": [
    {
     "name": "stdout",
     "output_type": "stream",
     "text": [
      "[3, 3]\n",
      "deg(90) = rad(1.5707963267948966)\n",
      "[[ 1.  2.  3.  4.  5.  6.  7.]\n",
      " [ 8.  9. 10. 11. 12. 13. 14.]\n",
      " [15. 16. 17. 18. 19. 20. 21.]\n",
      " [22. 23. 24. 25. 26. 27. 28.]\n",
      " [29. 30. 31. 32. 33. 34. 35.]\n",
      " [36. 37. 38. 39. 40. 41. 42.]\n",
      " [43. 44. 45. 46. 47. 48. 49.]]\n",
      "[[43. 36.  0. 22. 15.  8.  1.]\n",
      " [44. 37.  0. 23. 16. 10.  3.]\n",
      " [45. 38. 31. 24. 17.  0.  0.]\n",
      " [46. 39. 32. 25. 18. 11.  4.]\n",
      " [47. 40. 33. 26. 19. 12.  5.]\n",
      " [48. 41. 34. 27. 20. 13.  6.]\n",
      " [49. 42. 35. 28. 21. 14.  7.]]\n"
     ]
    }
   ],
   "source": [
    "hr = 7\n",
    "wc = 7\n",
    "rot_c=[int(hr/2),int(wc/2)]\n",
    "print(rot_c)\n",
    "rot_deg=90\n",
    "a = np.arange(1,1+hr*wc).reshape((hr,wc))\n",
    "t_img = u.img_rotator()\n",
    "t_img.fit(image=a, assign_method='pick', nan_action='clip', rot_c=rot_c, rot_deg=rot_deg)\n",
    "t_img.apply_rotation()\n",
    "print(t_img.image)\n",
    "print(t_img.imRot)"
   ]
  },
  {
   "cell_type": "code",
   "execution_count": null,
   "id": "44bcc901",
   "metadata": {},
   "outputs": [],
   "source": []
  }
 ],
 "metadata": {
  "kernelspec": {
   "display_name": "objectLocalization",
   "language": "python",
   "name": "objectlocalization"
  },
  "language_info": {
   "codemirror_mode": {
    "name": "ipython",
    "version": 3
   },
   "file_extension": ".py",
   "mimetype": "text/x-python",
   "name": "python",
   "nbconvert_exporter": "python",
   "pygments_lexer": "ipython3",
   "version": "3.7.11"
  }
 },
 "nbformat": 4,
 "nbformat_minor": 5
}
